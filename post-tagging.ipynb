{
 "cells": [
  {
   "cell_type": "code",
   "execution_count": 1,
   "id": "41848e52",
   "metadata": {},
   "outputs": [
    {
     "name": "stderr",
     "output_type": "stream",
     "text": [
      "[nltk_data] Downloading package punkt to\n",
      "[nltk_data]     C:\\Users\\zaifi\\AppData\\Roaming\\nltk_data...\n",
      "[nltk_data]   Package punkt is already up-to-date!\n"
     ]
    },
    {
     "data": {
      "text/plain": [
       "True"
      ]
     },
     "execution_count": 1,
     "metadata": {},
     "output_type": "execute_result"
    }
   ],
   "source": [
    "import nltk\n",
    "nltk.download('punkt')"
   ]
  },
  {
   "cell_type": "code",
   "execution_count": 2,
   "id": "7b2418f4",
   "metadata": {},
   "outputs": [
    {
     "name": "stdout",
     "output_type": "stream",
     "text": [
      "['The', 'Sun', 'sets', 'in', 'a', 'blaze', 'of', 'gold!', 'And', 'paints', 'the', 'sky', 'with', 'fiery', 'hues.']\n"
     ]
    }
   ],
   "source": [
    "#word tokanization using the split() function\n",
    "\n",
    "my_text = \"\"\"The Sun sets in a blaze of gold! And paints the sky with fiery hues.\"\"\"\n",
    "\n",
    "print(my_text.split())"
   ]
  },
  {
   "cell_type": "code",
   "execution_count": 3,
   "id": "c45ea0e8",
   "metadata": {},
   "outputs": [],
   "source": [
    "from nltk.tokenize import (word_tokenize , sent_tokenize, TreebankWordTokenizer, wordpunct_tokenize, TweetTokenizer,MWETokenizer)"
   ]
  },
  {
   "cell_type": "code",
   "execution_count": 4,
   "id": "99206a40",
   "metadata": {},
   "outputs": [],
   "source": [
    "txt = \"Work hard stay strong think postive Abhay\""
   ]
  },
  {
   "cell_type": "code",
   "execution_count": 5,
   "id": "38882b1b",
   "metadata": {},
   "outputs": [
    {
     "name": "stdout",
     "output_type": "stream",
     "text": [
      "['Work', 'hard', 'stay', 'strong', 'think', 'postive', 'Abhay']\n"
     ]
    }
   ],
   "source": [
    "print(word_tokenize(txt))"
   ]
  },
  {
   "cell_type": "code",
   "execution_count": 6,
   "id": "5020ed06",
   "metadata": {},
   "outputs": [],
   "source": [
    "txt_1 = \"Let me not to the marriage of true minds Admit impediments.\\\n",
    "         Love is not love Which alters when it alteration finds,\\\n",
    "         Or bends with the remover to remove: O no; it is an ever-fixed mark,\\\n",
    "         That looks on tempests, and is never shaken.\\\n",
    "         It is the star to every wandering bark\""
   ]
  },
  {
   "cell_type": "code",
   "execution_count": 7,
   "id": "d15f9735",
   "metadata": {},
   "outputs": [
    {
     "name": "stdout",
     "output_type": "stream",
     "text": [
      "['Let me not to the marriage of true minds Admit impediments.', 'Love is not love Which alters when it alteration finds,         Or bends with the remover to remove: O no; it is an ever-fixed mark,         That looks on tempests, and is never shaken.', 'It is the star to every wandering bark']\n"
     ]
    }
   ],
   "source": [
    "print(sent_tokenize(txt_1))"
   ]
  },
  {
   "cell_type": "code",
   "execution_count": 8,
   "id": "bd7084ab",
   "metadata": {},
   "outputs": [
    {
     "name": "stdout",
     "output_type": "stream",
     "text": [
      "['Let', 'me', 'not', 'to', 'the', 'marriage', 'of', 'true', 'minds', 'Admit', 'impediments', '.', 'Love', 'is', 'not', 'love', 'Which', 'alters', 'when', 'it', 'alteration', 'finds', ',', 'Or', 'bends', 'with', 'the', 'remover', 'to', 'remove', ':', 'O', 'no', ';', 'it', 'is', 'an', 'ever-fixed', 'mark', ',', 'That', 'looks', 'on', 'tempests', ',', 'and', 'is', 'never', 'shaken', '.', 'It', 'is', 'the', 'star', 'to', 'every', 'wandering', 'bark']\n"
     ]
    }
   ],
   "source": [
    "print(word_tokenize(txt_1))"
   ]
  },
  {
   "cell_type": "code",
   "execution_count": 9,
   "id": "5822187a",
   "metadata": {},
   "outputs": [
    {
     "name": "stdout",
     "output_type": "stream",
     "text": [
      "['Let', 'me', 'not', 'to', 'the', 'marriage', 'of', 'true', 'minds', 'Admit', 'impediments', '.', 'Love', 'is', 'not', 'love', 'Which', 'alters', 'when', 'it', 'alteration', 'finds', ',', 'Or', 'bends', 'with', 'the', 'remover', 'to', 'remove', ':', 'O', 'no', ';', 'it', 'is', 'an', 'ever', '-', 'fixed', 'mark', ',', 'That', 'looks', 'on', 'tempests', ',', 'and', 'is', 'never', 'shaken', '.', 'It', 'is', 'the', 'star', 'to', 'every', 'wandering', 'bark']\n"
     ]
    }
   ],
   "source": [
    "print(wordpunct_tokenize(txt_1)) "
   ]
  },
  {
   "cell_type": "code",
   "execution_count": 10,
   "id": "fb8f9018",
   "metadata": {},
   "outputs": [],
   "source": [
    "txt_1 =\"Let me not to the marriage do true minds Admit impediments.\\\n",
    "         Love is not love Which alters when it alteration finds,\\\n",
    "         Or bends with the remover don't remove: O no; it is an ever-fixed mark,\\\n",
    "         That looks on tempests, and is never shaken.\\\n",
    "         It is the star to every wandering bark\" "
   ]
  },
  {
   "cell_type": "code",
   "execution_count": 11,
   "id": "e612bec8",
   "metadata": {},
   "outputs": [
    {
     "name": "stdout",
     "output_type": "stream",
     "text": [
      "['Let', 'me', 'not', 'to', 'the', 'marriage', 'do', 'true', 'minds', 'Admit', 'impediments.', 'Love', 'is', 'not', 'love', 'Which', 'alters', 'when', 'it', 'alteration', 'finds', ',', 'Or', 'bends', 'with', 'the', 'remover', 'do', \"n't\", 'remove', ':', 'O', 'no', ';', 'it', 'is', 'an', 'ever-fixed', 'mark', ',', 'That', 'looks', 'on', 'tempests', ',', 'and', 'is', 'never', 'shaken.', 'It', 'is', 'the', 'star', 'to', 'every', 'wandering', 'bark']\n"
     ]
    }
   ],
   "source": [
    "tokenixer = TreebankWordTokenizer()\n",
    "print(tokenixer.tokenize(txt_1))"
   ]
  },
  {
   "cell_type": "code",
   "execution_count": 12,
   "id": "ab993ff7",
   "metadata": {},
   "outputs": [],
   "source": [
    "txt_1 =\"Let me not to the marriage do true minds Admit impediments.\\\n",
    "         Love is not love Which alters when it alteration finds,\\\n",
    "         Or bends with the remover doesn't remove: O no; it is an ever-fixed mark,\\\n",
    "         That looks on tempests, and is never shaken.\\\n",
    "         It is the star to every wandering bark\" "
   ]
  },
  {
   "cell_type": "code",
   "execution_count": 13,
   "id": "ece8761b",
   "metadata": {},
   "outputs": [
    {
     "name": "stdout",
     "output_type": "stream",
     "text": [
      "['Let', 'me', 'not', 'to', 'the', 'marriage', 'do', 'true', 'minds', 'Admit', 'impediments.', 'Love', 'is', 'not', 'love', 'Which', 'alters', 'when', 'it', 'alteration', 'finds', ',', 'Or', 'bends', 'with', 'the', 'remover', 'does', \"n't\", 'remove', ':', 'O', 'no', ';', 'it', 'is', 'an', 'ever-fixed', 'mark', ',', 'That', 'looks', 'on', 'tempests', ',', 'and', 'is', 'never', 'shaken.', 'It', 'is', 'the', 'star', 'to', 'every', 'wandering', 'bark']\n"
     ]
    }
   ],
   "source": [
    "tokenixer = TreebankWordTokenizer()\n",
    "print(tokenixer.tokenize(txt_1))"
   ]
  },
  {
   "cell_type": "code",
   "execution_count": 14,
   "id": "4dd36417",
   "metadata": {},
   "outputs": [],
   "source": [
    "txt_1 =\"Let me not to the marriage✨ do true minds Admit impediments.\\\n",
    "         Love❤️ is not love Which alters when it alteration finds,\\\n",
    "         Or bends with the remover don't remove: O no; it is an ever-fixed mark,\\\n",
    "         That looks on tempests, and is never shaken.\\\n",
    "         It is the star to every wandering bark🤗\""
   ]
  },
  {
   "cell_type": "code",
   "execution_count": 15,
   "id": "82e73fbe",
   "metadata": {},
   "outputs": [
    {
     "name": "stdout",
     "output_type": "stream",
     "text": [
      "['Let', 'me', 'not', 'to', 'the', 'marriage', '✨', 'do', 'true', 'minds', 'Admit', 'impediments', '.', 'Love', '❤', '️', 'is', 'not', 'love', 'Which', 'alters', 'when', 'it', 'alteration', 'finds', ',', 'Or', 'bends', 'with', 'the', 'remover', \"don't\", 'remove', ':', 'O', 'no', ';', 'it', 'is', 'an', 'ever-fixed', 'mark', ',', 'That', 'looks', 'on', 'tempests', ',', 'and', 'is', 'never', 'shaken', '.', 'It', 'is', 'the', 'star', 'to', 'every', 'wandering', 'bark', '🤗']\n"
     ]
    }
   ],
   "source": [
    "tokenixer = TweetTokenizer()\n",
    "print(tokenixer.tokenize(txt_1))"
   ]
  },
  {
   "cell_type": "code",
   "execution_count": 16,
   "id": "bc5f7b94",
   "metadata": {},
   "outputs": [],
   "source": [
    "txt_1 =\"Let me not to the marriage✨ do true minds Admit impediments.\\\n",
    "         Love❤️ is not love Which alters when it alteration finds,\\\n",
    "         Or bends with the remover don't remove: O no; it is an ever-fixed mark,\\\n",
    "         That looks on tempests, and is never shaken.\\\n",
    "         It is the star to every wandering bark🤗\""
   ]
  },
  {
   "cell_type": "code",
   "execution_count": 17,
   "id": "7bf14f5f",
   "metadata": {},
   "outputs": [
    {
     "name": "stdout",
     "output_type": "stream",
     "text": [
      "['L', 'e', 't', ' ', 'm', 'e', ' ', 'n', 'o', 't', ' ', 't', 'o', ' ', 't', 'h', 'e', ' ', 'm', 'a', 'r', 'r', 'i', 'a', 'g', 'e', '✨', ' ', 'd', 'o', ' ', 't', 'r', 'u', 'e', ' ', 'm', 'i', 'n', 'd', 's', ' ', 'A', 'd', 'm', 'i', 't', ' ', 'i', 'm', 'p', 'e', 'd', 'i', 'm', 'e', 'n', 't', 's', '.', ' ', ' ', ' ', ' ', ' ', ' ', ' ', ' ', ' ', 'L', 'o', 'v', 'e', '❤', '️', ' ', 'i', 's', ' ', 'n', 'o', 't', ' ', 'l', 'o', 'v', 'e', ' ', 'W', 'h', 'i', 'c', 'h', ' ', 'a', 'l', 't', 'e', 'r', 's', ' ', 'w', 'h', 'e', 'n', ' ', 'i', 't', ' ', 'a', 'l', 't', 'e', 'r', 'a', 't', 'i', 'o', 'n', ' ', 'f', 'i', 'n', 'd', 's', ',', ' ', ' ', ' ', ' ', ' ', ' ', ' ', ' ', ' ', 'O', 'r', ' ', 'b', 'e', 'n', 'd', 's', ' ', 'w', 'i', 't', 'h', ' ', 't', 'h', 'e', ' ', 'r', 'e', 'm', 'o', 'v', 'e', 'r', ' ', 'd', 'o', 'n', \"'\", 't', ' ', 'r', 'e', 'm', 'o', 'v', 'e', ':', ' ', 'O', ' ', 'n', 'o', ';', ' ', 'i', 't', ' ', 'i', 's', ' ', 'a', 'n', ' ', 'e', 'v', 'e', 'r', '-', 'f', 'i', 'x', 'e', 'd', ' ', 'm', 'a', 'r', 'k', ',', ' ', ' ', ' ', ' ', ' ', ' ', ' ', ' ', ' ', 'T', 'h', 'a', 't', ' ', 'l', 'o', 'o', 'k', 's', ' ', 'o', 'n', ' ', 't', 'e', 'm', 'p', 'e', 's', 't', 's', ',', ' ', 'a', 'n', 'd', ' ', 'i', 's', ' ', 'n', 'e', 'v', 'e', 'r', ' ', 's', 'h', 'a', 'k', 'e', 'n', '.', ' ', ' ', ' ', ' ', ' ', ' ', ' ', ' ', ' ', 'I', 't', ' ', 'i', 's', ' ', 't', 'h', 'e', ' ', 's', 't', 'a', 'r', ' ', 't', 'o', ' ', 'e', 'v', 'e', 'r', 'y', ' ', 'w', 'a', 'n', 'd', 'e', 'r', 'i', 'n', 'g', ' ', 'b', 'a', 'r', 'k', '🤗']\n"
     ]
    }
   ],
   "source": [
    "tokenixer = MWETokenizer()\n",
    "print(tokenixer.tokenize(txt_1))"
   ]
  },
  {
   "cell_type": "code",
   "execution_count": 18,
   "id": "c2c70afe",
   "metadata": {},
   "outputs": [
    {
     "name": "stdout",
     "output_type": "stream",
     "text": [
      "['Let', 'me', 'not', 'to', 'the', 'marriage✨', 'do', 'true', 'minds', 'Admit', 'impediments', '.', 'Love❤️', 'is', 'not', 'love', 'Which', 'alters', 'when', 'it', 'alteration', 'finds', ',', 'Or', 'bends', 'with', 'the', 'remover', 'do', \"n't\", 'remove', ':', 'O', 'no', ';', 'it', 'is', 'an', 'ever-fixed', 'mark', ',', 'That', 'looks', 'on', 'tempests', ',', 'and', 'is', 'never', 'shaken', '.', 'It', 'is', 'the', 'star', 'to', 'every', 'wandering', 'bark🤗']\n"
     ]
    }
   ],
   "source": [
    "tokenixer = MWETokenizer()\n",
    "print(tokenixer.tokenize(word_tokenize(txt_1)))"
   ]
  },
  {
   "cell_type": "code",
   "execution_count": 19,
   "id": "900b115d",
   "metadata": {},
   "outputs": [
    {
     "name": "stdout",
     "output_type": "stream",
     "text": [
      "['Let me not to the marriage✨ do true minds Admit impediments.', \"Love❤️ is not love Which alters when it alteration finds,         Or bends with the remover don't remove: O no; it is an ever-fixed mark,         That looks on tempests, and is never shaken.\", 'It is the star to every wandering bark🤗']\n"
     ]
    }
   ],
   "source": [
    "tokenixer = MWETokenizer()\n",
    "print(tokenixer.tokenize(sent_tokenize(txt_1)))"
   ]
  },
  {
   "cell_type": "code",
   "execution_count": 20,
   "id": "dd07372e",
   "metadata": {},
   "outputs": [
    {
     "name": "stdout",
     "output_type": "stream",
     "text": [
      "['Let', 'me', 'not', 'to', 'the', 'marriage✨', 'do', 'true', 'minds', 'Admit_impediments', '.', 'Love❤️', 'is', 'not', 'love', 'Which', 'alters', 'when', 'it', 'alteration', 'finds', ',', 'Or', 'bends', 'with', 'the', 'remover', 'do', \"n't\", 'remove', ':', 'O', 'no', ';', 'it', 'is', 'an', 'ever-fixed', 'mark', ',', 'That', 'looks', 'on', 'tempests', ',', 'and', 'is', 'never', 'shaken', '.', 'It', 'is', 'the', 'star', 'to', 'every', 'wandering', 'bark🤗']\n"
     ]
    }
   ],
   "source": [
    "tokenixer = MWETokenizer()\n",
    "tokenixer.add_mwe(('Admit', 'impediments'))\n",
    "print(tokenixer.tokenize(word_tokenize(txt_1)))"
   ]
  },
  {
   "cell_type": "code",
   "execution_count": null,
   "id": "b2c0c8d7",
   "metadata": {},
   "outputs": [],
   "source": []
  }
 ],
 "metadata": {
  "kernelspec": {
   "display_name": "Python 3 (ipykernel)",
   "language": "python",
   "name": "python3"
  },
  "language_info": {
   "codemirror_mode": {
    "name": "ipython",
    "version": 3
   },
   "file_extension": ".py",
   "mimetype": "text/x-python",
   "name": "python",
   "nbconvert_exporter": "python",
   "pygments_lexer": "ipython3",
   "version": "3.11.5"
  }
 },
 "nbformat": 4,
 "nbformat_minor": 5
}
