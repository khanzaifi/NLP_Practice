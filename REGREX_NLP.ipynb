{
 "cells": [
  {
   "cell_type": "code",
   "execution_count": 5,
   "id": "87105aad",
   "metadata": {},
   "outputs": [],
   "source": [
    "import string\n",
    "import re    #for regex\n",
    "import nltk\n",
    "from nltk.corpus import stopwords\n",
    "from nltk import pos_tag\n",
    "from nltk.stem.wordnet import WordNetLemmatizer \n",
    "from nltk.tokenize import word_tokenize\n",
    "from nltk.stem import PorterStemmer"
   ]
  },
  {
   "cell_type": "code",
   "execution_count": 7,
   "id": "f445b74f",
   "metadata": {},
   "outputs": [
    {
     "name": "stderr",
     "output_type": "stream",
     "text": [
      "[nltk_data] Downloading package stopwords to\n",
      "[nltk_data]     C:\\Users\\zaifi\\AppData\\Roaming\\nltk_data...\n",
      "[nltk_data]   Package stopwords is already up-to-date!\n"
     ]
    },
    {
     "data": {
      "text/plain": [
       "True"
      ]
     },
     "execution_count": 7,
     "metadata": {},
     "output_type": "execute_result"
    }
   ],
   "source": [
    "nltk.download('stopwords')"
   ]
  },
  {
   "cell_type": "code",
   "execution_count": 8,
   "id": "e86b11d4",
   "metadata": {},
   "outputs": [
    {
     "name": "stderr",
     "output_type": "stream",
     "text": [
      "[nltk_data] Downloading package wordnet to\n",
      "[nltk_data]     C:\\Users\\zaifi\\AppData\\Roaming\\nltk_data...\n"
     ]
    },
    {
     "data": {
      "text/plain": [
       "True"
      ]
     },
     "execution_count": 8,
     "metadata": {},
     "output_type": "execute_result"
    }
   ],
   "source": [
    "\n",
    "nltk.download('wordnet')"
   ]
  },
  {
   "cell_type": "code",
   "execution_count": 9,
   "id": "5c95222f",
   "metadata": {},
   "outputs": [
    {
     "name": "stderr",
     "output_type": "stream",
     "text": [
      "[nltk_data] Downloading package punkt to\n",
      "[nltk_data]     C:\\Users\\zaifi\\AppData\\Roaming\\nltk_data...\n",
      "[nltk_data]   Package punkt is already up-to-date!\n"
     ]
    },
    {
     "data": {
      "text/plain": [
       "True"
      ]
     },
     "execution_count": 9,
     "metadata": {},
     "output_type": "execute_result"
    }
   ],
   "source": [
    "nltk.download('punkt')"
   ]
  },
  {
   "cell_type": "code",
   "execution_count": 10,
   "id": "bff75663",
   "metadata": {},
   "outputs": [],
   "source": [
    "stemmer = PorterStemmer()\n",
    "lemmatizer = WordNetLemmatizer()"
   ]
  },
  {
   "cell_type": "code",
   "execution_count": 11,
   "id": "db6fdb1a",
   "metadata": {},
   "outputs": [],
   "source": [
    "text = \"LLMs are currently one of the hottest and most-watched areas in the field of NLP\"\n"
   ]
  },
  {
   "cell_type": "code",
   "execution_count": 14,
   "id": "7927b715",
   "metadata": {},
   "outputs": [],
   "source": [
    "# Tokenizing the text\n",
    "tokens = word_tokenize(text)"
   ]
  },
  {
   "cell_type": "code",
   "execution_count": 13,
   "id": "17aba06b",
   "metadata": {},
   "outputs": [],
   "source": [
    "stemmed_tokens = [stemmer.stem(token) for token in tokens]\n",
    "lemmatized_tokens = [lemmatizer.lemmatize(token) for token in tokens]"
   ]
  },
  {
   "cell_type": "code",
   "execution_count": 15,
   "id": "6744c97c",
   "metadata": {},
   "outputs": [
    {
     "name": "stdout",
     "output_type": "stream",
     "text": [
      "Original Tokens:  ['LLMs', 'are', 'currently', 'one', 'of', 'the', 'hottest', 'and', 'most-watched', 'areas', 'in', 'the', 'field', 'of', 'NLP']\n",
      "Stemmed Tokens:  ['llm', 'are', 'current', 'one', 'of', 'the', 'hottest', 'and', 'most-watch', 'area', 'in', 'the', 'field', 'of', 'nlp']\n",
      "Lemmatized Tokens:  ['LLMs', 'are', 'currently', 'one', 'of', 'the', 'hottest', 'and', 'most-watched', 'area', 'in', 'the', 'field', 'of', 'NLP']\n"
     ]
    }
   ],
   "source": [
    "print(\"Original Tokens: \", tokens)\n",
    "print(\"Stemmed Tokens: \", stemmed_tokens)\n",
    "print(\"Lemmatized Tokens: \", lemmatized_tokens)"
   ]
  },
  {
   "cell_type": "code",
   "execution_count": 16,
   "id": "846e8503",
   "metadata": {},
   "outputs": [
    {
     "name": "stdout",
     "output_type": "stream",
     "text": [
      "Collecting spacy\n",
      "  Obtaining dependency information for spacy from https://files.pythonhosted.org/packages/90/f0/0133b684e18932c7bf4075d94819746cee2c0329f2569db526b0fa1df1df/spacy-3.7.2-cp311-cp311-win_amd64.whl.metadata\n",
      "  Downloading spacy-3.7.2-cp311-cp311-win_amd64.whl.metadata (26 kB)\n",
      "Collecting spacy-legacy<3.1.0,>=3.0.11 (from spacy)\n",
      "  Downloading spacy_legacy-3.0.12-py2.py3-none-any.whl (29 kB)\n",
      "Collecting spacy-loggers<2.0.0,>=1.0.0 (from spacy)\n",
      "  Obtaining dependency information for spacy-loggers<2.0.0,>=1.0.0 from https://files.pythonhosted.org/packages/33/78/d1a1a026ef3af911159398c939b1509d5c36fe524c7b644f34a5146c4e16/spacy_loggers-1.0.5-py3-none-any.whl.metadata\n",
      "  Downloading spacy_loggers-1.0.5-py3-none-any.whl.metadata (23 kB)\n",
      "Collecting murmurhash<1.1.0,>=0.28.0 (from spacy)\n",
      "  Obtaining dependency information for murmurhash<1.1.0,>=0.28.0 from https://files.pythonhosted.org/packages/71/46/af01a20ec368bd9cb49a1d2df15e3eca113bbf6952cc1f2a47f1c6801a7f/murmurhash-1.0.10-cp311-cp311-win_amd64.whl.metadata\n",
      "  Downloading murmurhash-1.0.10-cp311-cp311-win_amd64.whl.metadata (2.0 kB)\n",
      "Collecting cymem<2.1.0,>=2.0.2 (from spacy)\n",
      "  Obtaining dependency information for cymem<2.1.0,>=2.0.2 from https://files.pythonhosted.org/packages/c1/c3/dd044e6f62a3d317c461f6f0c153c6573ed13025752d779e514000c15dd2/cymem-2.0.8-cp311-cp311-win_amd64.whl.metadata\n",
      "  Downloading cymem-2.0.8-cp311-cp311-win_amd64.whl.metadata (8.6 kB)\n",
      "Collecting preshed<3.1.0,>=3.0.2 (from spacy)\n",
      "  Obtaining dependency information for preshed<3.1.0,>=3.0.2 from https://files.pythonhosted.org/packages/e4/fc/78cdbdb79f5d6d45949e72c32445d6c060977ad50a1dcfc0392622165f7c/preshed-3.0.9-cp311-cp311-win_amd64.whl.metadata\n",
      "  Downloading preshed-3.0.9-cp311-cp311-win_amd64.whl.metadata (2.2 kB)\n",
      "Collecting thinc<8.3.0,>=8.1.8 (from spacy)\n",
      "  Obtaining dependency information for thinc<8.3.0,>=8.1.8 from https://files.pythonhosted.org/packages/dd/e9/c806bd2b281cc4cb5eea9375c3f45f6c4ff293877f469bb38d78a4f1cf96/thinc-8.2.1-cp311-cp311-win_amd64.whl.metadata\n",
      "  Downloading thinc-8.2.1-cp311-cp311-win_amd64.whl.metadata (15 kB)\n",
      "Collecting wasabi<1.2.0,>=0.9.1 (from spacy)\n",
      "  Obtaining dependency information for wasabi<1.2.0,>=0.9.1 from https://files.pythonhosted.org/packages/8f/69/26cbf0bad11703241cb84d5324d868097f7a8faf2f1888354dac8883f3fc/wasabi-1.1.2-py3-none-any.whl.metadata\n",
      "  Downloading wasabi-1.1.2-py3-none-any.whl.metadata (28 kB)\n",
      "Collecting srsly<3.0.0,>=2.4.3 (from spacy)\n",
      "  Obtaining dependency information for srsly<3.0.0,>=2.4.3 from https://files.pythonhosted.org/packages/eb/f5/e3f29993f673d91623df6413ba64e815dd2676fd7932cbc5e7347402ddae/srsly-2.4.8-cp311-cp311-win_amd64.whl.metadata\n",
      "  Downloading srsly-2.4.8-cp311-cp311-win_amd64.whl.metadata (20 kB)\n",
      "Collecting catalogue<2.1.0,>=2.0.6 (from spacy)\n",
      "  Obtaining dependency information for catalogue<2.1.0,>=2.0.6 from https://files.pythonhosted.org/packages/9e/96/d32b941a501ab566a16358d68b6eb4e4acc373fab3c3c4d7d9e649f7b4bb/catalogue-2.0.10-py3-none-any.whl.metadata\n",
      "  Downloading catalogue-2.0.10-py3-none-any.whl.metadata (14 kB)\n",
      "Collecting weasel<0.4.0,>=0.1.0 (from spacy)\n",
      "  Obtaining dependency information for weasel<0.4.0,>=0.1.0 from https://files.pythonhosted.org/packages/d5/e5/b63b8e255d89ba4155972990d42523251d4d1368c4906c646597f63870e2/weasel-0.3.4-py3-none-any.whl.metadata\n",
      "  Downloading weasel-0.3.4-py3-none-any.whl.metadata (4.7 kB)\n",
      "Collecting typer<0.10.0,>=0.3.0 (from spacy)\n",
      "  Downloading typer-0.9.0-py3-none-any.whl (45 kB)\n",
      "     ---------------------------------------- 0.0/45.9 kB ? eta -:--:--\n",
      "     ---------------------------------------- 45.9/45.9 kB ? eta 0:00:00\n",
      "Requirement already satisfied: smart-open<7.0.0,>=5.2.1 in c:\\users\\zaifi\\anaconda3\\lib\\site-packages (from spacy) (5.2.1)\n",
      "Requirement already satisfied: tqdm<5.0.0,>=4.38.0 in c:\\users\\zaifi\\anaconda3\\lib\\site-packages (from spacy) (4.65.0)\n",
      "Requirement already satisfied: requests<3.0.0,>=2.13.0 in c:\\users\\zaifi\\anaconda3\\lib\\site-packages (from spacy) (2.31.0)\n",
      "Requirement already satisfied: pydantic!=1.8,!=1.8.1,<3.0.0,>=1.7.4 in c:\\users\\zaifi\\anaconda3\\lib\\site-packages (from spacy) (1.10.8)\n",
      "Requirement already satisfied: jinja2 in c:\\users\\zaifi\\anaconda3\\lib\\site-packages (from spacy) (3.1.2)\n",
      "Requirement already satisfied: setuptools in c:\\users\\zaifi\\anaconda3\\lib\\site-packages (from spacy) (68.0.0)\n",
      "Requirement already satisfied: packaging>=20.0 in c:\\users\\zaifi\\anaconda3\\lib\\site-packages (from spacy) (23.1)\n",
      "Collecting langcodes<4.0.0,>=3.2.0 (from spacy)\n",
      "  Downloading langcodes-3.3.0-py3-none-any.whl (181 kB)\n",
      "     ---------------------------------------- 0.0/181.6 kB ? eta -:--:--\n",
      "     ------------------------------------- 181.6/181.6 kB 10.7 MB/s eta 0:00:00\n",
      "Requirement already satisfied: numpy>=1.19.0 in c:\\users\\zaifi\\anaconda3\\lib\\site-packages (from spacy) (1.24.3)\n",
      "Requirement already satisfied: typing-extensions>=4.2.0 in c:\\users\\zaifi\\anaconda3\\lib\\site-packages (from pydantic!=1.8,!=1.8.1,<3.0.0,>=1.7.4->spacy) (4.7.1)\n",
      "Requirement already satisfied: charset-normalizer<4,>=2 in c:\\users\\zaifi\\anaconda3\\lib\\site-packages (from requests<3.0.0,>=2.13.0->spacy) (2.0.4)\n",
      "Requirement already satisfied: idna<4,>=2.5 in c:\\users\\zaifi\\anaconda3\\lib\\site-packages (from requests<3.0.0,>=2.13.0->spacy) (3.4)\n",
      "Requirement already satisfied: urllib3<3,>=1.21.1 in c:\\users\\zaifi\\anaconda3\\lib\\site-packages (from requests<3.0.0,>=2.13.0->spacy) (1.26.16)\n",
      "Requirement already satisfied: certifi>=2017.4.17 in c:\\users\\zaifi\\anaconda3\\lib\\site-packages (from requests<3.0.0,>=2.13.0->spacy) (2023.11.17)\n",
      "Collecting blis<0.8.0,>=0.7.8 (from thinc<8.3.0,>=8.1.8->spacy)\n",
      "  Obtaining dependency information for blis<0.8.0,>=0.7.8 from https://files.pythonhosted.org/packages/2f/09/da0592c74560cc33396504698122f7a56747c82a5e072ca7d2c3397898e1/blis-0.7.11-cp311-cp311-win_amd64.whl.metadata\n",
      "  Downloading blis-0.7.11-cp311-cp311-win_amd64.whl.metadata (7.6 kB)\n",
      "Collecting confection<1.0.0,>=0.0.1 (from thinc<8.3.0,>=8.1.8->spacy)\n",
      "  Obtaining dependency information for confection<1.0.0,>=0.0.1 from https://files.pythonhosted.org/packages/39/78/f9d18da7b979a2e6007bfcea2f3c8cc02ed210538ae1ce7e69092aed7b18/confection-0.1.4-py3-none-any.whl.metadata\n",
      "  Downloading confection-0.1.4-py3-none-any.whl.metadata (19 kB)\n",
      "Requirement already satisfied: colorama in c:\\users\\zaifi\\anaconda3\\lib\\site-packages (from tqdm<5.0.0,>=4.38.0->spacy) (0.4.6)\n",
      "Requirement already satisfied: click<9.0.0,>=7.1.1 in c:\\users\\zaifi\\anaconda3\\lib\\site-packages (from typer<0.10.0,>=0.3.0->spacy) (8.0.4)\n",
      "Collecting cloudpathlib<0.17.0,>=0.7.0 (from weasel<0.4.0,>=0.1.0->spacy)\n",
      "  Obtaining dependency information for cloudpathlib<0.17.0,>=0.7.0 from https://files.pythonhosted.org/packages/0f/6e/45b57a7d4573d85d0b0a39d99673dc1f5eea9d92a1a4603b35e968fbf89a/cloudpathlib-0.16.0-py3-none-any.whl.metadata\n",
      "  Downloading cloudpathlib-0.16.0-py3-none-any.whl.metadata (14 kB)\n",
      "Requirement already satisfied: MarkupSafe>=2.0 in c:\\users\\zaifi\\anaconda3\\lib\\site-packages (from jinja2->spacy) (2.1.1)\n",
      "Downloading spacy-3.7.2-cp311-cp311-win_amd64.whl (12.1 MB)\n",
      "   ---------------------------------------- 0.0/12.1 MB ? eta -:--:--\n",
      "   - -------------------------------------- 0.4/12.1 MB 7.4 MB/s eta 0:00:02\n",
      "   -- ------------------------------------- 0.8/12.1 MB 8.4 MB/s eta 0:00:02\n",
      "   ---- ----------------------------------- 1.4/12.1 MB 9.5 MB/s eta 0:00:02\n",
      "   ------ --------------------------------- 1.8/12.1 MB 9.7 MB/s eta 0:00:02\n",
      "   ------- -------------------------------- 2.3/12.1 MB 9.9 MB/s eta 0:00:01\n",
      "   ------- -------------------------------- 2.3/12.1 MB 10.0 MB/s eta 0:00:01\n",
      "   ------- -------------------------------- 2.3/12.1 MB 10.0 MB/s eta 0:00:01\n",
      "   -------- ------------------------------- 2.6/12.1 MB 7.2 MB/s eta 0:00:02\n",
      "   ---------- ----------------------------- 3.1/12.1 MB 7.4 MB/s eta 0:00:02\n",
      "   ----------- ---------------------------- 3.6/12.1 MB 7.8 MB/s eta 0:00:02\n",
      "   ------------- -------------------------- 4.0/12.1 MB 8.3 MB/s eta 0:00:01\n",
      "   ------------- -------------------------- 4.2/12.1 MB 8.3 MB/s eta 0:00:01\n",
      "   ------------- -------------------------- 4.2/12.1 MB 8.3 MB/s eta 0:00:01\n",
      "   ------------- -------------------------- 4.2/12.1 MB 8.3 MB/s eta 0:00:01\n",
      "   ------------- -------------------------- 4.2/12.1 MB 8.3 MB/s eta 0:00:01\n",
      "   -------------- ------------------------- 4.2/12.1 MB 6.1 MB/s eta 0:00:02\n",
      "   -------------- ------------------------- 4.3/12.1 MB 6.0 MB/s eta 0:00:02\n",
      "   --------------- ------------------------ 4.7/12.1 MB 6.1 MB/s eta 0:00:02\n",
      "   ---------------- ----------------------- 5.1/12.1 MB 6.4 MB/s eta 0:00:02\n",
      "   ------------------ --------------------- 5.5/12.1 MB 6.7 MB/s eta 0:00:01\n",
      "   ------------------ --------------------- 5.5/12.1 MB 6.7 MB/s eta 0:00:01\n",
      "   ------------------ --------------------- 5.5/12.1 MB 6.7 MB/s eta 0:00:01\n",
      "   ------------------ --------------------- 5.7/12.1 MB 6.0 MB/s eta 0:00:02\n",
      "   -------------------- ------------------- 6.1/12.1 MB 6.0 MB/s eta 0:00:01\n",
      "   --------------------- ------------------ 6.6/12.1 MB 6.3 MB/s eta 0:00:01\n",
      "   ----------------------- ---------------- 7.0/12.1 MB 6.4 MB/s eta 0:00:01\n",
      "   ----------------------- ---------------- 7.2/12.1 MB 6.4 MB/s eta 0:00:01\n",
      "   ------------------------- -------------- 7.6/12.1 MB 6.4 MB/s eta 0:00:01\n",
      "   -------------------------- ------------- 8.1/12.1 MB 6.5 MB/s eta 0:00:01\n",
      "   ---------------------------- ----------- 8.5/12.1 MB 6.6 MB/s eta 0:00:01\n",
      "   ----------------------------- ---------- 9.0/12.1 MB 6.8 MB/s eta 0:00:01\n",
      "   ------------------------------- -------- 9.4/12.1 MB 6.9 MB/s eta 0:00:01\n",
      "   -------------------------------- ------- 9.8/12.1 MB 7.0 MB/s eta 0:00:01\n",
      "   --------------------------------- ------ 10.1/12.1 MB 7.1 MB/s eta 0:00:01\n",
      "   --------------------------------- ------ 10.1/12.1 MB 7.1 MB/s eta 0:00:01\n",
      "   --------------------------------- ------ 10.1/12.1 MB 7.1 MB/s eta 0:00:01\n",
      "   --------------------------------- ------ 10.1/12.1 MB 7.1 MB/s eta 0:00:01\n",
      "   --------------------------------- ------ 10.1/12.1 MB 7.1 MB/s eta 0:00:01\n",
      "   --------------------------------- ------ 10.2/12.1 MB 6.1 MB/s eta 0:00:01\n",
      "   ---------------------------------- ----- 10.3/12.1 MB 6.0 MB/s eta 0:00:01\n",
      "   ---------------------------------- ----- 10.4/12.1 MB 6.0 MB/s eta 0:00:01\n",
      "   ----------------------------------- ---- 10.6/12.1 MB 5.9 MB/s eta 0:00:01\n",
      "   ----------------------------------- ---- 10.8/12.1 MB 5.9 MB/s eta 0:00:01\n",
      "   ----------------------------------- ---- 10.8/12.1 MB 5.9 MB/s eta 0:00:01\n",
      "   ------------------------------------ --- 10.9/12.1 MB 5.6 MB/s eta 0:00:01\n",
      "   ------------------------------------- -- 11.3/12.1 MB 5.6 MB/s eta 0:00:01\n",
      "   -------------------------------------- - 11.7/12.1 MB 5.5 MB/s eta 0:00:01\n",
      "   ---------------------------------------  12.0/12.1 MB 5.5 MB/s eta 0:00:01\n",
      "   ---------------------------------------  12.0/12.1 MB 5.5 MB/s eta 0:00:01\n",
      "   ---------------------------------------  12.0/12.1 MB 5.5 MB/s eta 0:00:01\n",
      "   ---------------------------------------  12.0/12.1 MB 5.5 MB/s eta 0:00:01\n",
      "   ---------------------------------------  12.0/12.1 MB 5.5 MB/s eta 0:00:01\n",
      "   ---------------------------------------  12.0/12.1 MB 5.5 MB/s eta 0:00:01\n",
      "   ---------------------------------------  12.0/12.1 MB 4.8 MB/s eta 0:00:01\n",
      "   ---------------------------------------  12.1/12.1 MB 4.7 MB/s eta 0:00:01\n",
      "   ---------------------------------------- 12.1/12.1 MB 4.6 MB/s eta 0:00:00\n",
      "Downloading catalogue-2.0.10-py3-none-any.whl (17 kB)\n",
      "Downloading cymem-2.0.8-cp311-cp311-win_amd64.whl (39 kB)\n",
      "Downloading murmurhash-1.0.10-cp311-cp311-win_amd64.whl (25 kB)\n",
      "Downloading preshed-3.0.9-cp311-cp311-win_amd64.whl (122 kB)\n",
      "   ---------------------------------------- 0.0/122.3 kB ? eta -:--:--\n",
      "   ---------------------------------------- 122.3/122.3 kB 3.5 MB/s eta 0:00:00\n",
      "Downloading spacy_loggers-1.0.5-py3-none-any.whl (22 kB)\n",
      "Downloading srsly-2.4.8-cp311-cp311-win_amd64.whl (479 kB)\n",
      "   ---------------------------------------- 0.0/479.7 kB ? eta -:--:--\n",
      "   --------------------- ------------------ 256.0/479.7 kB 7.9 MB/s eta 0:00:01\n",
      "   -------------------------------- ------- 389.1/479.7 kB 8.1 MB/s eta 0:00:01\n",
      "   -------------------------------- ------- 389.1/479.7 kB 8.1 MB/s eta 0:00:01\n",
      "   -------------------------------- ------- 389.1/479.7 kB 8.1 MB/s eta 0:00:01\n",
      "   -------------------------------- ------- 389.1/479.7 kB 8.1 MB/s eta 0:00:01\n",
      "   -------------------------------- ------- 389.1/479.7 kB 8.1 MB/s eta 0:00:01\n",
      "   -------------------------------- ------- 389.1/479.7 kB 8.1 MB/s eta 0:00:01\n",
      "   ---------------------------------------- 479.7/479.7 kB 1.3 MB/s eta 0:00:00\n",
      "Downloading thinc-8.2.1-cp311-cp311-win_amd64.whl (1.5 MB)\n",
      "   ---------------------------------------- 0.0/1.5 MB ? eta -:--:--\n",
      "   -- ------------------------------------- 0.1/1.5 MB 2.3 MB/s eta 0:00:01\n",
      "   ------- -------------------------------- 0.3/1.5 MB 4.5 MB/s eta 0:00:01\n",
      "   ------------- -------------------------- 0.5/1.5 MB 5.3 MB/s eta 0:00:01\n",
      "   ----------------- ---------------------- 0.6/1.5 MB 4.5 MB/s eta 0:00:01\n",
      "   --------------------------- ------------ 1.0/1.5 MB 4.9 MB/s eta 0:00:01\n",
      "   ---------------------------------- ----- 1.3/1.5 MB 5.0 MB/s eta 0:00:01\n",
      "   ---------------------------------------  1.5/1.5 MB 5.2 MB/s eta 0:00:01\n",
      "   ---------------------------------------- 1.5/1.5 MB 4.9 MB/s eta 0:00:00\n",
      "Downloading wasabi-1.1.2-py3-none-any.whl (27 kB)\n",
      "Downloading weasel-0.3.4-py3-none-any.whl (50 kB)\n",
      "   ---------------------------------------- 0.0/50.1 kB ? eta -:--:--\n",
      "   ---------------------------------------- 50.1/50.1 kB ? eta 0:00:00\n",
      "Downloading blis-0.7.11-cp311-cp311-win_amd64.whl (6.6 MB)\n",
      "   ---------------------------------------- 0.0/6.6 MB ? eta -:--:--\n",
      "   - -------------------------------------- 0.3/6.6 MB 9.3 MB/s eta 0:00:01\n",
      "   --- ------------------------------------ 0.6/6.6 MB 7.4 MB/s eta 0:00:01\n",
      "   --- ------------------------------------ 0.6/6.6 MB 7.4 MB/s eta 0:00:01\n",
      "   --- ------------------------------------ 0.6/6.6 MB 7.4 MB/s eta 0:00:01\n",
      "   ---- ----------------------------------- 0.8/6.6 MB 4.0 MB/s eta 0:00:02\n",
      "   ----- ---------------------------------- 0.9/6.6 MB 3.8 MB/s eta 0:00:02\n",
      "   ------ --------------------------------- 1.0/6.6 MB 3.7 MB/s eta 0:00:02\n",
      "   ------ --------------------------------- 1.1/6.6 MB 3.6 MB/s eta 0:00:02\n",
      "   ------ --------------------------------- 1.1/6.6 MB 3.6 MB/s eta 0:00:02\n",
      "   ------ --------------------------------- 1.1/6.6 MB 3.6 MB/s eta 0:00:02\n",
      "   ------ --------------------------------- 1.1/6.6 MB 3.6 MB/s eta 0:00:02\n",
      "   ------ --------------------------------- 1.1/6.6 MB 3.6 MB/s eta 0:00:02\n",
      "   ------ --------------------------------- 1.1/6.6 MB 3.6 MB/s eta 0:00:02\n",
      "   ------ --------------------------------- 1.1/6.6 MB 3.6 MB/s eta 0:00:02\n",
      "   ------- -------------------------------- 1.2/6.6 MB 1.8 MB/s eta 0:00:04\n",
      "   ------- -------------------------------- 1.2/6.6 MB 1.8 MB/s eta 0:00:04\n",
      "   ------- -------------------------------- 1.2/6.6 MB 1.7 MB/s eta 0:00:04\n",
      "   ------- -------------------------------- 1.2/6.6 MB 1.7 MB/s eta 0:00:04\n",
      "   ------- -------------------------------- 1.2/6.6 MB 1.7 MB/s eta 0:00:04\n",
      "   ------- -------------------------------- 1.2/6.6 MB 1.4 MB/s eta 0:00:04\n",
      "   ------- -------------------------------- 1.2/6.6 MB 1.3 MB/s eta 0:00:05\n",
      "   ------- -------------------------------- 1.2/6.6 MB 1.3 MB/s eta 0:00:05\n",
      "   ------- -------------------------------- 1.2/6.6 MB 1.3 MB/s eta 0:00:05\n",
      "   ------- -------------------------------- 1.2/6.6 MB 1.3 MB/s eta 0:00:05\n",
      "   ------- -------------------------------- 1.2/6.6 MB 1.3 MB/s eta 0:00:05\n",
      "   ------- -------------------------------- 1.2/6.6 MB 1.3 MB/s eta 0:00:05\n",
      "   ------- -------------------------------- 1.2/6.6 MB 1.3 MB/s eta 0:00:05\n",
      "   ------- -------------------------------- 1.2/6.6 MB 1.3 MB/s eta 0:00:05\n",
      "   ------- -------------------------------- 1.2/6.6 MB 1.3 MB/s eta 0:00:05\n",
      "   ------- -------------------------------- 1.3/6.6 MB 929.5 kB/s eta 0:00:06\n",
      "   ------- -------------------------------- 1.3/6.6 MB 929.5 kB/s eta 0:00:06\n",
      "   ------- -------------------------------- 1.3/6.6 MB 895.2 kB/s eta 0:00:06\n",
      "   ------- -------------------------------- 1.3/6.6 MB 875.7 kB/s eta 0:00:07\n",
      "   -------- ------------------------------- 1.4/6.6 MB 891.6 kB/s eta 0:00:06\n",
      "   --------- ------------------------------ 1.5/6.6 MB 940.9 kB/s eta 0:00:06\n",
      "   --------- ------------------------------ 1.6/6.6 MB 989.3 kB/s eta 0:00:06\n",
      "   ---------- ----------------------------- 1.8/6.6 MB 1.1 MB/s eta 0:00:05\n",
      "   ----------- ---------------------------- 2.0/6.6 MB 1.1 MB/s eta 0:00:05\n",
      "   ------------- -------------------------- 2.2/6.6 MB 1.2 MB/s eta 0:00:04\n",
      "   -------------- ------------------------- 2.4/6.6 MB 1.3 MB/s eta 0:00:04\n",
      "   ---------------- ----------------------- 2.7/6.6 MB 1.4 MB/s eta 0:00:03\n",
      "   ----------------- ---------------------- 2.9/6.6 MB 1.5 MB/s eta 0:00:03\n",
      "   ------------------- -------------------- 3.2/6.6 MB 1.7 MB/s eta 0:00:03\n",
      "   --------------------- ------------------ 3.5/6.6 MB 1.8 MB/s eta 0:00:02\n",
      "   ---------------------- ----------------- 3.7/6.6 MB 1.8 MB/s eta 0:00:02\n",
      "   ----------------------- ---------------- 3.9/6.6 MB 1.8 MB/s eta 0:00:02\n",
      "   ------------------------- -------------- 4.1/6.6 MB 1.9 MB/s eta 0:00:02\n",
      "   -------------------------- ------------- 4.4/6.6 MB 2.0 MB/s eta 0:00:02\n",
      "   ----------------------------- ---------- 4.8/6.6 MB 2.2 MB/s eta 0:00:01\n",
      "   ------------------------------ --------- 5.1/6.6 MB 2.2 MB/s eta 0:00:01\n",
      "   ------------------------------ --------- 5.1/6.6 MB 2.2 MB/s eta 0:00:01\n",
      "   ------------------------------ --------- 5.1/6.6 MB 2.2 MB/s eta 0:00:01\n",
      "   ------------------------------ --------- 5.1/6.6 MB 2.2 MB/s eta 0:00:01\n",
      "   ------------------------------ --------- 5.1/6.6 MB 2.2 MB/s eta 0:00:01\n",
      "   ------------------------------- -------- 5.2/6.6 MB 2.1 MB/s eta 0:00:01\n",
      "   ------------------------------- -------- 5.3/6.6 MB 2.1 MB/s eta 0:00:01\n",
      "   -------------------------------- ------- 5.4/6.6 MB 2.0 MB/s eta 0:00:01\n",
      "   --------------------------------- ------ 5.5/6.6 MB 2.1 MB/s eta 0:00:01\n",
      "   ---------------------------------- ----- 5.7/6.6 MB 2.1 MB/s eta 0:00:01\n",
      "   ------------------------------------ --- 6.0/6.6 MB 2.2 MB/s eta 0:00:01\n",
      "   -------------------------------------- - 6.3/6.6 MB 2.3 MB/s eta 0:00:01\n",
      "   -------------------------------------- - 6.3/6.6 MB 2.3 MB/s eta 0:00:01\n",
      "   ---------------------------------------  6.5/6.6 MB 2.2 MB/s eta 0:00:01\n",
      "   ---------------------------------------  6.6/6.6 MB 2.3 MB/s eta 0:00:01\n",
      "   ---------------------------------------- 6.6/6.6 MB 2.2 MB/s eta 0:00:00\n",
      "Downloading cloudpathlib-0.16.0-py3-none-any.whl (45 kB)\n",
      "   ---------------------------------------- 0.0/45.0 kB ? eta -:--:--\n",
      "   ---------------------------------------- 45.0/45.0 kB ? eta 0:00:00\n",
      "Downloading confection-0.1.4-py3-none-any.whl (35 kB)\n",
      "Installing collected packages: cymem, wasabi, spacy-loggers, spacy-legacy, murmurhash, langcodes, cloudpathlib, catalogue, blis, typer, srsly, preshed, confection, weasel, thinc, spacy\n",
      "Successfully installed blis-0.7.11 catalogue-2.0.10 cloudpathlib-0.16.0 confection-0.1.4 cymem-2.0.8 langcodes-3.3.0 murmurhash-1.0.10 preshed-3.0.9 spacy-3.7.2 spacy-legacy-3.0.12 spacy-loggers-1.0.5 srsly-2.4.8 thinc-8.2.1 typer-0.9.0 wasabi-1.1.2 weasel-0.3.4\n",
      "Note: you may need to restart the kernel to use updated packages.\n"
     ]
    }
   ],
   "source": [
    "pip install spacy"
   ]
  },
  {
   "cell_type": "code",
   "execution_count": 17,
   "id": "6a7bb128",
   "metadata": {},
   "outputs": [
    {
     "name": "stdout",
     "output_type": "stream",
     "text": [
      "Collecting nlp\n",
      "  Downloading nlp-0.4.0-py3-none-any.whl (1.7 MB)\n",
      "     ---------------------------------------- 0.0/1.7 MB ? eta -:--:--\n",
      "     ---------------------------------------- 0.0/1.7 MB ? eta -:--:--\n",
      "     -- ------------------------------------- 0.1/1.7 MB 1.1 MB/s eta 0:00:02\n",
      "     ------------------ --------------------- 0.7/1.7 MB 5.9 MB/s eta 0:00:01\n",
      "     ---------------------------------------  1.6/1.7 MB 10.5 MB/s eta 0:00:01\n",
      "     ---------------------------------------- 1.7/1.7 MB 8.8 MB/s eta 0:00:00\n",
      "Requirement already satisfied: numpy in c:\\users\\zaifi\\anaconda3\\lib\\site-packages (from nlp) (1.24.3)\n",
      "Requirement already satisfied: pyarrow>=0.16.0 in c:\\users\\zaifi\\anaconda3\\lib\\site-packages (from nlp) (11.0.0)\n",
      "Requirement already satisfied: dill in c:\\users\\zaifi\\anaconda3\\lib\\site-packages (from nlp) (0.3.6)\n",
      "Requirement already satisfied: pandas in c:\\users\\zaifi\\anaconda3\\lib\\site-packages (from nlp) (2.0.3)\n",
      "Requirement already satisfied: requests>=2.19.0 in c:\\users\\zaifi\\anaconda3\\lib\\site-packages (from nlp) (2.31.0)\n",
      "Requirement already satisfied: tqdm>=4.27 in c:\\users\\zaifi\\anaconda3\\lib\\site-packages (from nlp) (4.65.0)\n",
      "Requirement already satisfied: filelock in c:\\users\\zaifi\\anaconda3\\lib\\site-packages (from nlp) (3.9.0)\n",
      "Requirement already satisfied: xxhash in c:\\users\\zaifi\\anaconda3\\lib\\site-packages (from nlp) (2.0.2)\n",
      "Requirement already satisfied: charset-normalizer<4,>=2 in c:\\users\\zaifi\\anaconda3\\lib\\site-packages (from requests>=2.19.0->nlp) (2.0.4)\n",
      "Requirement already satisfied: idna<4,>=2.5 in c:\\users\\zaifi\\anaconda3\\lib\\site-packages (from requests>=2.19.0->nlp) (3.4)\n",
      "Requirement already satisfied: urllib3<3,>=1.21.1 in c:\\users\\zaifi\\anaconda3\\lib\\site-packages (from requests>=2.19.0->nlp) (1.26.16)\n",
      "Requirement already satisfied: certifi>=2017.4.17 in c:\\users\\zaifi\\anaconda3\\lib\\site-packages (from requests>=2.19.0->nlp) (2023.11.17)\n",
      "Requirement already satisfied: colorama in c:\\users\\zaifi\\anaconda3\\lib\\site-packages (from tqdm>=4.27->nlp) (0.4.6)\n",
      "Requirement already satisfied: python-dateutil>=2.8.2 in c:\\users\\zaifi\\anaconda3\\lib\\site-packages (from pandas->nlp) (2.8.2)\n",
      "Requirement already satisfied: pytz>=2020.1 in c:\\users\\zaifi\\anaconda3\\lib\\site-packages (from pandas->nlp) (2023.3.post1)\n",
      "Requirement already satisfied: tzdata>=2022.1 in c:\\users\\zaifi\\anaconda3\\lib\\site-packages (from pandas->nlp) (2023.3)\n",
      "Requirement already satisfied: six>=1.5 in c:\\users\\zaifi\\anaconda3\\lib\\site-packages (from python-dateutil>=2.8.2->pandas->nlp) (1.16.0)\n",
      "Installing collected packages: nlp\n",
      "Successfully installed nlp-0.4.0\n",
      "Note: you may need to restart the kernel to use updated packages.\n"
     ]
    }
   ],
   "source": [
    "pip install nlp"
   ]
  },
  {
   "cell_type": "code",
   "execution_count": 18,
   "id": "c2cf586d",
   "metadata": {},
   "outputs": [
    {
     "name": "stdout",
     "output_type": "stream",
     "text": [
      "Collecting en-core-web-sm==3.7.1\n",
      "  Downloading https://github.com/explosion/spacy-models/releases/download/en_core_web_sm-3.7.1/en_core_web_sm-3.7.1-py3-none-any.whl (12.8 MB)\n",
      "     ---------------------------------------- 0.0/12.8 MB ? eta -:--:--\n",
      "     --------------------------------------- 0.0/12.8 MB 640.0 kB/s eta 0:00:20\n",
      "      --------------------------------------- 0.2/12.8 MB 2.0 MB/s eta 0:00:07\n",
      "     - -------------------------------------- 0.6/12.8 MB 5.5 MB/s eta 0:00:03\n",
      "     --- ------------------------------------ 1.2/12.8 MB 7.0 MB/s eta 0:00:02\n",
      "     ----- ---------------------------------- 1.8/12.8 MB 8.3 MB/s eta 0:00:02\n",
      "     ------- -------------------------------- 2.3/12.8 MB 9.1 MB/s eta 0:00:02\n",
      "     -------- ------------------------------- 2.8/12.8 MB 9.3 MB/s eta 0:00:02\n",
      "     ---------- ----------------------------- 3.4/12.8 MB 10.2 MB/s eta 0:00:01\n",
      "     ------------ --------------------------- 4.1/12.8 MB 10.8 MB/s eta 0:00:01\n",
      "     -------------- ------------------------- 4.6/12.8 MB 11.4 MB/s eta 0:00:01\n",
      "     ---------------- ----------------------- 5.2/12.8 MB 11.4 MB/s eta 0:00:01\n",
      "     ----------------- ---------------------- 5.7/12.8 MB 11.4 MB/s eta 0:00:01\n",
      "     ------------------- -------------------- 6.4/12.8 MB 11.7 MB/s eta 0:00:01\n",
      "     --------------------- ------------------ 6.9/12.8 MB 12.0 MB/s eta 0:00:01\n",
      "     ---------------------- ----------------- 7.4/12.8 MB 12.0 MB/s eta 0:00:01\n",
      "     ---------------------- ----------------- 7.4/12.8 MB 12.0 MB/s eta 0:00:01\n",
      "     ---------------------- ----------------- 7.4/12.8 MB 12.0 MB/s eta 0:00:01\n",
      "     ---------------------- ----------------- 7.4/12.8 MB 12.0 MB/s eta 0:00:01\n",
      "     ---------------------- ----------------- 7.4/12.8 MB 12.0 MB/s eta 0:00:01\n",
      "     ---------------------- ----------------- 7.4/12.8 MB 12.0 MB/s eta 0:00:01\n",
      "     ----------------------- ---------------- 7.5/12.8 MB 8.7 MB/s eta 0:00:01\n",
      "     ------------------------ --------------- 7.7/12.8 MB 8.4 MB/s eta 0:00:01\n",
      "     ------------------------- -------------- 8.1/12.8 MB 8.3 MB/s eta 0:00:01\n",
      "     -------------------------- ------------- 8.4/12.8 MB 8.4 MB/s eta 0:00:01\n",
      "     --------------------------- ------------ 8.7/12.8 MB 8.3 MB/s eta 0:00:01\n",
      "     ---------------------------- ----------- 9.1/12.8 MB 8.3 MB/s eta 0:00:01\n",
      "     ----------------------------- ---------- 9.5/12.8 MB 8.4 MB/s eta 0:00:01\n",
      "     ------------------------------ --------- 9.9/12.8 MB 8.4 MB/s eta 0:00:01\n",
      "     -------------------------------- ------- 10.4/12.8 MB 9.0 MB/s eta 0:00:01\n",
      "     ---------------------------------- ----- 11.0/12.8 MB 9.0 MB/s eta 0:00:01\n",
      "     ---------------------------------- ----- 11.2/12.8 MB 8.8 MB/s eta 0:00:01\n",
      "     ---------------------------------- ----- 11.2/12.8 MB 8.8 MB/s eta 0:00:01\n",
      "     ---------------------------------- ----- 11.2/12.8 MB 8.8 MB/s eta 0:00:01\n",
      "     ---------------------------------- ----- 11.2/12.8 MB 8.8 MB/s eta 0:00:01\n",
      "     ---------------------------------- ----- 11.2/12.8 MB 8.8 MB/s eta 0:00:01\n",
      "     ---------------------------------- ----- 11.2/12.8 MB 8.8 MB/s eta 0:00:01\n",
      "     ---------------------------------- ----- 11.2/12.8 MB 8.8 MB/s eta 0:00:01\n",
      "     ---------------------------------- ----- 11.2/12.8 MB 8.8 MB/s eta 0:00:01\n",
      "     ---------------------------------- ----- 11.2/12.8 MB 8.8 MB/s eta 0:00:01\n",
      "     ----------------------------------- ---- 11.4/12.8 MB 6.9 MB/s eta 0:00:01\n",
      "     ----------------------------------- ---- 11.5/12.8 MB 6.5 MB/s eta 0:00:01\n",
      "     ------------------------------------ --- 11.6/12.8 MB 6.4 MB/s eta 0:00:01\n",
      "     ------------------------------------ --- 11.6/12.8 MB 6.4 MB/s eta 0:00:01\n",
      "     ------------------------------------ --- 11.8/12.8 MB 6.1 MB/s eta 0:00:01\n",
      "     ------------------------------------- -- 12.1/12.8 MB 6.1 MB/s eta 0:00:01\n",
      "     ---------------------------------------  12.6/12.8 MB 6.1 MB/s eta 0:00:01\n",
      "     ---------------------------------------  12.8/12.8 MB 6.1 MB/s eta 0:00:01\n",
      "     ---------------------------------------- 12.8/12.8 MB 5.9 MB/s eta 0:00:00\n",
      "Requirement already satisfied: spacy<3.8.0,>=3.7.2 in c:\\users\\zaifi\\anaconda3\\lib\\site-packages (from en-core-web-sm==3.7.1) (3.7.2)\n",
      "Requirement already satisfied: spacy-legacy<3.1.0,>=3.0.11 in c:\\users\\zaifi\\anaconda3\\lib\\site-packages (from spacy<3.8.0,>=3.7.2->en-core-web-sm==3.7.1) (3.0.12)\n",
      "Requirement already satisfied: spacy-loggers<2.0.0,>=1.0.0 in c:\\users\\zaifi\\anaconda3\\lib\\site-packages (from spacy<3.8.0,>=3.7.2->en-core-web-sm==3.7.1) (1.0.5)\n",
      "Requirement already satisfied: murmurhash<1.1.0,>=0.28.0 in c:\\users\\zaifi\\anaconda3\\lib\\site-packages (from spacy<3.8.0,>=3.7.2->en-core-web-sm==3.7.1) (1.0.10)\n",
      "Requirement already satisfied: cymem<2.1.0,>=2.0.2 in c:\\users\\zaifi\\anaconda3\\lib\\site-packages (from spacy<3.8.0,>=3.7.2->en-core-web-sm==3.7.1) (2.0.8)\n",
      "Requirement already satisfied: preshed<3.1.0,>=3.0.2 in c:\\users\\zaifi\\anaconda3\\lib\\site-packages (from spacy<3.8.0,>=3.7.2->en-core-web-sm==3.7.1) (3.0.9)\n",
      "Requirement already satisfied: thinc<8.3.0,>=8.1.8 in c:\\users\\zaifi\\anaconda3\\lib\\site-packages (from spacy<3.8.0,>=3.7.2->en-core-web-sm==3.7.1) (8.2.1)\n",
      "Requirement already satisfied: wasabi<1.2.0,>=0.9.1 in c:\\users\\zaifi\\anaconda3\\lib\\site-packages (from spacy<3.8.0,>=3.7.2->en-core-web-sm==3.7.1) (1.1.2)\n",
      "Requirement already satisfied: srsly<3.0.0,>=2.4.3 in c:\\users\\zaifi\\anaconda3\\lib\\site-packages (from spacy<3.8.0,>=3.7.2->en-core-web-sm==3.7.1) (2.4.8)\n",
      "Requirement already satisfied: catalogue<2.1.0,>=2.0.6 in c:\\users\\zaifi\\anaconda3\\lib\\site-packages (from spacy<3.8.0,>=3.7.2->en-core-web-sm==3.7.1) (2.0.10)\n",
      "Requirement already satisfied: weasel<0.4.0,>=0.1.0 in c:\\users\\zaifi\\anaconda3\\lib\\site-packages (from spacy<3.8.0,>=3.7.2->en-core-web-sm==3.7.1) (0.3.4)\n",
      "Requirement already satisfied: typer<0.10.0,>=0.3.0 in c:\\users\\zaifi\\anaconda3\\lib\\site-packages (from spacy<3.8.0,>=3.7.2->en-core-web-sm==3.7.1) (0.9.0)\n",
      "Requirement already satisfied: smart-open<7.0.0,>=5.2.1 in c:\\users\\zaifi\\anaconda3\\lib\\site-packages (from spacy<3.8.0,>=3.7.2->en-core-web-sm==3.7.1) (5.2.1)\n",
      "Requirement already satisfied: tqdm<5.0.0,>=4.38.0 in c:\\users\\zaifi\\anaconda3\\lib\\site-packages (from spacy<3.8.0,>=3.7.2->en-core-web-sm==3.7.1) (4.65.0)\n",
      "Requirement already satisfied: requests<3.0.0,>=2.13.0 in c:\\users\\zaifi\\anaconda3\\lib\\site-packages (from spacy<3.8.0,>=3.7.2->en-core-web-sm==3.7.1) (2.31.0)\n",
      "Requirement already satisfied: pydantic!=1.8,!=1.8.1,<3.0.0,>=1.7.4 in c:\\users\\zaifi\\anaconda3\\lib\\site-packages (from spacy<3.8.0,>=3.7.2->en-core-web-sm==3.7.1) (1.10.8)\n",
      "Requirement already satisfied: jinja2 in c:\\users\\zaifi\\anaconda3\\lib\\site-packages (from spacy<3.8.0,>=3.7.2->en-core-web-sm==3.7.1) (3.1.2)\n",
      "Requirement already satisfied: setuptools in c:\\users\\zaifi\\anaconda3\\lib\\site-packages (from spacy<3.8.0,>=3.7.2->en-core-web-sm==3.7.1) (68.0.0)\n",
      "Requirement already satisfied: packaging>=20.0 in c:\\users\\zaifi\\anaconda3\\lib\\site-packages (from spacy<3.8.0,>=3.7.2->en-core-web-sm==3.7.1) (23.1)\n",
      "Requirement already satisfied: langcodes<4.0.0,>=3.2.0 in c:\\users\\zaifi\\anaconda3\\lib\\site-packages (from spacy<3.8.0,>=3.7.2->en-core-web-sm==3.7.1) (3.3.0)\n",
      "Requirement already satisfied: numpy>=1.19.0 in c:\\users\\zaifi\\anaconda3\\lib\\site-packages (from spacy<3.8.0,>=3.7.2->en-core-web-sm==3.7.1) (1.24.3)\n",
      "Requirement already satisfied: typing-extensions>=4.2.0 in c:\\users\\zaifi\\anaconda3\\lib\\site-packages (from pydantic!=1.8,!=1.8.1,<3.0.0,>=1.7.4->spacy<3.8.0,>=3.7.2->en-core-web-sm==3.7.1) (4.7.1)\n",
      "Requirement already satisfied: charset-normalizer<4,>=2 in c:\\users\\zaifi\\anaconda3\\lib\\site-packages (from requests<3.0.0,>=2.13.0->spacy<3.8.0,>=3.7.2->en-core-web-sm==3.7.1) (2.0.4)\n",
      "Requirement already satisfied: idna<4,>=2.5 in c:\\users\\zaifi\\anaconda3\\lib\\site-packages (from requests<3.0.0,>=2.13.0->spacy<3.8.0,>=3.7.2->en-core-web-sm==3.7.1) (3.4)\n",
      "Requirement already satisfied: urllib3<3,>=1.21.1 in c:\\users\\zaifi\\anaconda3\\lib\\site-packages (from requests<3.0.0,>=2.13.0->spacy<3.8.0,>=3.7.2->en-core-web-sm==3.7.1) (1.26.16)\n",
      "Requirement already satisfied: certifi>=2017.4.17 in c:\\users\\zaifi\\anaconda3\\lib\\site-packages (from requests<3.0.0,>=2.13.0->spacy<3.8.0,>=3.7.2->en-core-web-sm==3.7.1) (2023.11.17)\n",
      "Requirement already satisfied: blis<0.8.0,>=0.7.8 in c:\\users\\zaifi\\anaconda3\\lib\\site-packages (from thinc<8.3.0,>=8.1.8->spacy<3.8.0,>=3.7.2->en-core-web-sm==3.7.1) (0.7.11)\n",
      "Requirement already satisfied: confection<1.0.0,>=0.0.1 in c:\\users\\zaifi\\anaconda3\\lib\\site-packages (from thinc<8.3.0,>=8.1.8->spacy<3.8.0,>=3.7.2->en-core-web-sm==3.7.1) (0.1.4)\n",
      "Requirement already satisfied: colorama in c:\\users\\zaifi\\anaconda3\\lib\\site-packages (from tqdm<5.0.0,>=4.38.0->spacy<3.8.0,>=3.7.2->en-core-web-sm==3.7.1) (0.4.6)\n",
      "Requirement already satisfied: click<9.0.0,>=7.1.1 in c:\\users\\zaifi\\anaconda3\\lib\\site-packages (from typer<0.10.0,>=0.3.0->spacy<3.8.0,>=3.7.2->en-core-web-sm==3.7.1) (8.0.4)\n",
      "Requirement already satisfied: cloudpathlib<0.17.0,>=0.7.0 in c:\\users\\zaifi\\anaconda3\\lib\\site-packages (from weasel<0.4.0,>=0.1.0->spacy<3.8.0,>=3.7.2->en-core-web-sm==3.7.1) (0.16.0)\n",
      "Requirement already satisfied: MarkupSafe>=2.0 in c:\\users\\zaifi\\anaconda3\\lib\\site-packages (from jinja2->spacy<3.8.0,>=3.7.2->en-core-web-sm==3.7.1) (2.1.1)\n",
      "Installing collected packages: en-core-web-sm\n",
      "Successfully installed en-core-web-sm-3.7.1\n",
      "\u001b[38;5;2m[+] Download and installation successful\u001b[0m\n",
      "You can now load the package via spacy.load('en_core_web_sm')\n"
     ]
    }
   ],
   "source": [
    "!python -m spacy download en_core_web_sm"
   ]
  },
  {
   "cell_type": "code",
   "execution_count": 19,
   "id": "b21d5ffb",
   "metadata": {},
   "outputs": [],
   "source": [
    "from scipy import sparse\n",
    "import scipy.stats as ss\n",
    "import spacy"
   ]
  },
  {
   "cell_type": "code",
   "execution_count": 20,
   "id": "9174cce0",
   "metadata": {},
   "outputs": [],
   "source": [
    "nlp =spacy.load(\"en_core_web_sm\")"
   ]
  },
  {
   "cell_type": "code",
   "execution_count": 21,
   "id": "cbc6e6ce",
   "metadata": {},
   "outputs": [
    {
     "name": "stdout",
     "output_type": "stream",
     "text": [
      "LLMs 0\n",
      "are 5\n",
      "currently 9\n",
      "one 19\n",
      "of 23\n",
      "the 26\n",
      "hottest 30\n",
      "and 38\n",
      "most 42\n",
      "- 46\n",
      "watched 47\n",
      "areas 55\n",
      "in 61\n",
      "the 64\n",
      "field 68\n",
      "of 74\n",
      "NLP 77\n"
     ]
    }
   ],
   "source": [
    "text= \"LLMs are currently one of the hottest and most-watched areas in the field of NLP\"\n",
    "doc = nlp(text)\n",
    "for token in doc:\n",
    "    print (token, token.idx)"
   ]
  },
  {
   "cell_type": "code",
   "execution_count": null,
   "id": "d7d2d159",
   "metadata": {},
   "outputs": [],
   "source": []
  }
 ],
 "metadata": {
  "kernelspec": {
   "display_name": "Python 3 (ipykernel)",
   "language": "python",
   "name": "python3"
  },
  "language_info": {
   "codemirror_mode": {
    "name": "ipython",
    "version": 3
   },
   "file_extension": ".py",
   "mimetype": "text/x-python",
   "name": "python",
   "nbconvert_exporter": "python",
   "pygments_lexer": "ipython3",
   "version": "3.11.5"
  }
 },
 "nbformat": 4,
 "nbformat_minor": 5
}
