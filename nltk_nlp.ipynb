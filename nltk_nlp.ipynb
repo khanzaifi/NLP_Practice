{
 "cells": [
  {
   "cell_type": "code",
   "execution_count": 2,
   "id": "7eb1ce7d",
   "metadata": {},
   "outputs": [
    {
     "name": "stderr",
     "output_type": "stream",
     "text": [
      "[nltk_data] Downloading package punkt to\n",
      "[nltk_data]     C:\\Users\\zaifi\\AppData\\Roaming\\nltk_data...\n",
      "[nltk_data]   Package punkt is already up-to-date!\n"
     ]
    },
    {
     "data": {
      "text/plain": [
       "True"
      ]
     },
     "execution_count": 2,
     "metadata": {},
     "output_type": "execute_result"
    }
   ],
   "source": [
    "import nltk\n",
    "nltk.download('punkt')"
   ]
  },
  {
   "cell_type": "code",
   "execution_count": 3,
   "id": "c2b18560",
   "metadata": {},
   "outputs": [],
   "source": [
    "#word tokanization using the split() function\n",
    "\n",
    "my_text = \"\"\"The Sun sets in a blaze of gold! And paints the sky with fiery hues.\"\"\""
   ]
  },
  {
   "cell_type": "code",
   "execution_count": 4,
   "id": "dcd6c99a",
   "metadata": {},
   "outputs": [
    {
     "name": "stdout",
     "output_type": "stream",
     "text": [
      "['The', 'Sun', 'sets', 'in', 'a', 'blaze', 'of', 'gold!', 'And', 'paints', 'the', 'sky', 'with', 'fiery', 'hues.']\n"
     ]
    }
   ],
   "source": [
    "print(my_text.split())"
   ]
  },
  {
   "cell_type": "code",
   "execution_count": 5,
   "id": "2de26f22",
   "metadata": {},
   "outputs": [],
   "source": [
    "from nltk.tokenize import (word_tokenize , sent_tokenize, TreebankWordTokenizer, wordpunct_tokenize, TweetTokenizer,MWETokenizer)"
   ]
  },
  {
   "cell_type": "code",
   "execution_count": 6,
   "id": "4aa9483e",
   "metadata": {},
   "outputs": [],
   "source": [
    "\n",
    "txt = \"Work hard stay strong think postive Abhay\""
   ]
  },
  {
   "cell_type": "code",
   "execution_count": 7,
   "id": "5bac9aca",
   "metadata": {},
   "outputs": [
    {
     "name": "stdout",
     "output_type": "stream",
     "text": [
      "['Work', 'hard', 'stay', 'strong', 'think', 'postive', 'Abhay']\n"
     ]
    }
   ],
   "source": [
    "print(word_tokenize(txt))"
   ]
  },
  {
   "cell_type": "code",
   "execution_count": 8,
   "id": "0189b62f",
   "metadata": {},
   "outputs": [],
   "source": [
    "txt_1 = \"Let me not to the marriage of true minds Admit impediments.\\\n",
    "         Love is not love Which alters when it alteration finds,\\\n",
    "         Or bends with the remover to remove: O no; it is an ever-fixed mark,\\\n",
    "         That looks on tempests, and is never shaken.\\\n",
    "         It is the star to every wandering bark\""
   ]
  },
  {
   "cell_type": "code",
   "execution_count": 9,
   "id": "c2f11e6a",
   "metadata": {},
   "outputs": [
    {
     "name": "stdout",
     "output_type": "stream",
     "text": [
      "['Let me not to the marriage of true minds Admit impediments.', 'Love is not love Which alters when it alteration finds,         Or bends with the remover to remove: O no; it is an ever-fixed mark,         That looks on tempests, and is never shaken.', 'It is the star to every wandering bark']\n"
     ]
    }
   ],
   "source": [
    "print(sent_tokenize(txt_1))"
   ]
  },
  {
   "cell_type": "code",
   "execution_count": 10,
   "id": "32362f78",
   "metadata": {},
   "outputs": [
    {
     "name": "stdout",
     "output_type": "stream",
     "text": [
      "['Let', 'me', 'not', 'to', 'the', 'marriage', 'of', 'true', 'minds', 'Admit', 'impediments', '.', 'Love', 'is', 'not', 'love', 'Which', 'alters', 'when', 'it', 'alteration', 'finds', ',', 'Or', 'bends', 'with', 'the', 'remover', 'to', 'remove', ':', 'O', 'no', ';', 'it', 'is', 'an', 'ever-fixed', 'mark', ',', 'That', 'looks', 'on', 'tempests', ',', 'and', 'is', 'never', 'shaken', '.', 'It', 'is', 'the', 'star', 'to', 'every', 'wandering', 'bark']\n"
     ]
    }
   ],
   "source": [
    "print(word_tokenize(txt_1))\n"
   ]
  },
  {
   "cell_type": "code",
   "execution_count": 11,
   "id": "a8c1c317",
   "metadata": {},
   "outputs": [
    {
     "name": "stdout",
     "output_type": "stream",
     "text": [
      "['Let', 'me', 'not', 'to', 'the', 'marriage', 'of', 'true', 'minds', 'Admit', 'impediments', '.', 'Love', 'is', 'not', 'love', 'Which', 'alters', 'when', 'it', 'alteration', 'finds', ',', 'Or', 'bends', 'with', 'the', 'remover', 'to', 'remove', ':', 'O', 'no', ';', 'it', 'is', 'an', 'ever', '-', 'fixed', 'mark', ',', 'That', 'looks', 'on', 'tempests', ',', 'and', 'is', 'never', 'shaken', '.', 'It', 'is', 'the', 'star', 'to', 'every', 'wandering', 'bark']\n"
     ]
    }
   ],
   "source": [
    "print(wordpunct_tokenize(txt_1)) "
   ]
  },
  {
   "cell_type": "code",
   "execution_count": 12,
   "id": "54435e74",
   "metadata": {},
   "outputs": [],
   "source": [
    "txt_1 =\"Let me not to the marriage do true minds Admit impediments.\\\n",
    "         Love is not love Which alters when it alteration finds,\\\n",
    "         Or bends with the remover don't remove: O no; it is an ever-fixed mark,\\\n",
    "         That looks on tempests, and is never shaken.\\\n",
    "         It is the star to every wandering bark\" "
   ]
  },
  {
   "cell_type": "code",
   "execution_count": 13,
   "id": "fc576ec5",
   "metadata": {},
   "outputs": [
    {
     "name": "stdout",
     "output_type": "stream",
     "text": [
      "['Let', 'me', 'not', 'to', 'the', 'marriage', 'do', 'true', 'minds', 'Admit', 'impediments.', 'Love', 'is', 'not', 'love', 'Which', 'alters', 'when', 'it', 'alteration', 'finds', ',', 'Or', 'bends', 'with', 'the', 'remover', 'do', \"n't\", 'remove', ':', 'O', 'no', ';', 'it', 'is', 'an', 'ever-fixed', 'mark', ',', 'That', 'looks', 'on', 'tempests', ',', 'and', 'is', 'never', 'shaken.', 'It', 'is', 'the', 'star', 'to', 'every', 'wandering', 'bark']\n"
     ]
    }
   ],
   "source": [
    "tokenixer = TreebankWordTokenizer()\n",
    "print(tokenixer.tokenize(txt_1))"
   ]
  },
  {
   "cell_type": "code",
   "execution_count": 14,
   "id": "977dcf59",
   "metadata": {},
   "outputs": [],
   "source": [
    "txt_1 =\"Let me not to the marriage do true minds Admit impediments.\\\n",
    "         Love is not love Which alters when it alteration finds,\\\n",
    "         Or bends with the remover doesn't remove: O no; it is an ever-fixed mark,\\\n",
    "         That looks on tempests, and is never shaken.\\\n",
    "         It is the star to every wandering bark\" \n"
   ]
  },
  {
   "cell_type": "code",
   "execution_count": 15,
   "id": "9ae49be7",
   "metadata": {},
   "outputs": [
    {
     "name": "stdout",
     "output_type": "stream",
     "text": [
      "['Let', 'me', 'not', 'to', 'the', 'marriage', 'do', 'true', 'minds', 'Admit', 'impediments.', 'Love', 'is', 'not', 'love', 'Which', 'alters', 'when', 'it', 'alteration', 'finds', ',', 'Or', 'bends', 'with', 'the', 'remover', 'does', \"n't\", 'remove', ':', 'O', 'no', ';', 'it', 'is', 'an', 'ever-fixed', 'mark', ',', 'That', 'looks', 'on', 'tempests', ',', 'and', 'is', 'never', 'shaken.', 'It', 'is', 'the', 'star', 'to', 'every', 'wandering', 'bark']\n"
     ]
    }
   ],
   "source": [
    "tokenixer = TreebankWordTokenizer()\n",
    "print(tokenixer.tokenize(txt_1))\n"
   ]
  },
  {
   "cell_type": "code",
   "execution_count": 16,
   "id": "e1385a5a",
   "metadata": {},
   "outputs": [],
   "source": [
    "txt_1 =\"Let me not to the marriage✨ do true minds Admit impediments.\\\n",
    "         Love❤️ is not love Which alters when it alteration finds,\\\n",
    "         Or bends with the remover don't remove: O no; it is an ever-fixed mark,\\\n",
    "         That looks on tempests, and is never shaken.\\\n",
    "         It is the star to every wandering bark🤗\""
   ]
  },
  {
   "cell_type": "code",
   "execution_count": 17,
   "id": "b077afac",
   "metadata": {},
   "outputs": [
    {
     "name": "stdout",
     "output_type": "stream",
     "text": [
      "['Let', 'me', 'not', 'to', 'the', 'marriage', '✨', 'do', 'true', 'minds', 'Admit', 'impediments', '.', 'Love', '❤', '️', 'is', 'not', 'love', 'Which', 'alters', 'when', 'it', 'alteration', 'finds', ',', 'Or', 'bends', 'with', 'the', 'remover', \"don't\", 'remove', ':', 'O', 'no', ';', 'it', 'is', 'an', 'ever-fixed', 'mark', ',', 'That', 'looks', 'on', 'tempests', ',', 'and', 'is', 'never', 'shaken', '.', 'It', 'is', 'the', 'star', 'to', 'every', 'wandering', 'bark', '🤗']\n"
     ]
    }
   ],
   "source": [
    "tokenixer = TweetTokenizer()\n",
    "print(tokenixer.tokenize(txt_1))"
   ]
  },
  {
   "cell_type": "code",
   "execution_count": 18,
   "id": "2ee1f976",
   "metadata": {},
   "outputs": [],
   "source": [
    "\n",
    "txt_1 =\"Let me not to the marriage✨ do true minds Admit impediments.\\\n",
    "         Love❤️ is not love Which alters when it alteration finds,\\\n",
    "         Or bends with the remover don't remove: O no; it is an ever-fixed mark,\\\n",
    "         That looks on tempests, and is never shaken.\\\n",
    "         It is the star to every wandering bark🤗\""
   ]
  },
  {
   "cell_type": "code",
   "execution_count": 19,
   "id": "408ff059",
   "metadata": {},
   "outputs": [
    {
     "name": "stdout",
     "output_type": "stream",
     "text": [
      "['L', 'e', 't', ' ', 'm', 'e', ' ', 'n', 'o', 't', ' ', 't', 'o', ' ', 't', 'h', 'e', ' ', 'm', 'a', 'r', 'r', 'i', 'a', 'g', 'e', '✨', ' ', 'd', 'o', ' ', 't', 'r', 'u', 'e', ' ', 'm', 'i', 'n', 'd', 's', ' ', 'A', 'd', 'm', 'i', 't', ' ', 'i', 'm', 'p', 'e', 'd', 'i', 'm', 'e', 'n', 't', 's', '.', ' ', ' ', ' ', ' ', ' ', ' ', ' ', ' ', ' ', 'L', 'o', 'v', 'e', '❤', '️', ' ', 'i', 's', ' ', 'n', 'o', 't', ' ', 'l', 'o', 'v', 'e', ' ', 'W', 'h', 'i', 'c', 'h', ' ', 'a', 'l', 't', 'e', 'r', 's', ' ', 'w', 'h', 'e', 'n', ' ', 'i', 't', ' ', 'a', 'l', 't', 'e', 'r', 'a', 't', 'i', 'o', 'n', ' ', 'f', 'i', 'n', 'd', 's', ',', ' ', ' ', ' ', ' ', ' ', ' ', ' ', ' ', ' ', 'O', 'r', ' ', 'b', 'e', 'n', 'd', 's', ' ', 'w', 'i', 't', 'h', ' ', 't', 'h', 'e', ' ', 'r', 'e', 'm', 'o', 'v', 'e', 'r', ' ', 'd', 'o', 'n', \"'\", 't', ' ', 'r', 'e', 'm', 'o', 'v', 'e', ':', ' ', 'O', ' ', 'n', 'o', ';', ' ', 'i', 't', ' ', 'i', 's', ' ', 'a', 'n', ' ', 'e', 'v', 'e', 'r', '-', 'f', 'i', 'x', 'e', 'd', ' ', 'm', 'a', 'r', 'k', ',', ' ', ' ', ' ', ' ', ' ', ' ', ' ', ' ', ' ', 'T', 'h', 'a', 't', ' ', 'l', 'o', 'o', 'k', 's', ' ', 'o', 'n', ' ', 't', 'e', 'm', 'p', 'e', 's', 't', 's', ',', ' ', 'a', 'n', 'd', ' ', 'i', 's', ' ', 'n', 'e', 'v', 'e', 'r', ' ', 's', 'h', 'a', 'k', 'e', 'n', '.', ' ', ' ', ' ', ' ', ' ', ' ', ' ', ' ', ' ', 'I', 't', ' ', 'i', 's', ' ', 't', 'h', 'e', ' ', 's', 't', 'a', 'r', ' ', 't', 'o', ' ', 'e', 'v', 'e', 'r', 'y', ' ', 'w', 'a', 'n', 'd', 'e', 'r', 'i', 'n', 'g', ' ', 'b', 'a', 'r', 'k', '🤗']\n"
     ]
    }
   ],
   "source": [
    "tokenixer = MWETokenizer()\n",
    "print(tokenixer.tokenize(txt_1))"
   ]
  },
  {
   "cell_type": "code",
   "execution_count": 20,
   "id": "58f80bc6",
   "metadata": {},
   "outputs": [
    {
     "name": "stdout",
     "output_type": "stream",
     "text": [
      "['Let', 'me', 'not', 'to', 'the', 'marriage✨', 'do', 'true', 'minds', 'Admit', 'impediments', '.', 'Love❤️', 'is', 'not', 'love', 'Which', 'alters', 'when', 'it', 'alteration', 'finds', ',', 'Or', 'bends', 'with', 'the', 'remover', 'do', \"n't\", 'remove', ':', 'O', 'no', ';', 'it', 'is', 'an', 'ever-fixed', 'mark', ',', 'That', 'looks', 'on', 'tempests', ',', 'and', 'is', 'never', 'shaken', '.', 'It', 'is', 'the', 'star', 'to', 'every', 'wandering', 'bark🤗']\n"
     ]
    }
   ],
   "source": [
    "tokenixer = MWETokenizer()\n",
    "print(tokenixer.tokenize(word_tokenize(txt_1)))"
   ]
  },
  {
   "cell_type": "code",
   "execution_count": 21,
   "id": "6c7ac27f",
   "metadata": {},
   "outputs": [
    {
     "name": "stdout",
     "output_type": "stream",
     "text": [
      "['Let me not to the marriage✨ do true minds Admit impediments.', \"Love❤️ is not love Which alters when it alteration finds,         Or bends with the remover don't remove: O no; it is an ever-fixed mark,         That looks on tempests, and is never shaken.\", 'It is the star to every wandering bark🤗']\n"
     ]
    }
   ],
   "source": [
    "tokenixer = MWETokenizer()\n",
    "print(tokenixer.tokenize(sent_tokenize(txt_1)))"
   ]
  },
  {
   "cell_type": "code",
   "execution_count": 22,
   "id": "fa3aecf3",
   "metadata": {},
   "outputs": [
    {
     "name": "stdout",
     "output_type": "stream",
     "text": [
      "['Let', 'me', 'not', 'to', 'the', 'marriage✨', 'do', 'true', 'minds', 'Admit_impediments', '.', 'Love❤️', 'is', 'not', 'love', 'Which', 'alters', 'when', 'it', 'alteration', 'finds', ',', 'Or', 'bends', 'with', 'the', 'remover', 'do', \"n't\", 'remove', ':', 'O', 'no', ';', 'it', 'is', 'an', 'ever-fixed', 'mark', ',', 'That', 'looks', 'on', 'tempests', ',', 'and', 'is', 'never', 'shaken', '.', 'It', 'is', 'the', 'star', 'to', 'every', 'wandering', 'bark🤗']\n"
     ]
    }
   ],
   "source": [
    "tokenixer = MWETokenizer()\n",
    "tokenixer.add_mwe(('Admit', 'impediments'))\n",
    "print(tokenixer.tokenize(word_tokenize(txt_1)))"
   ]
  },
  {
   "cell_type": "code",
   "execution_count": null,
   "id": "96fb737e",
   "metadata": {},
   "outputs": [],
   "source": []
  }
 ],
 "metadata": {
  "kernelspec": {
   "display_name": "Python 3 (ipykernel)",
   "language": "python",
   "name": "python3"
  },
  "language_info": {
   "codemirror_mode": {
    "name": "ipython",
    "version": 3
   },
   "file_extension": ".py",
   "mimetype": "text/x-python",
   "name": "python",
   "nbconvert_exporter": "python",
   "pygments_lexer": "ipython3",
   "version": "3.11.5"
  }
 },
 "nbformat": 4,
 "nbformat_minor": 5
}
